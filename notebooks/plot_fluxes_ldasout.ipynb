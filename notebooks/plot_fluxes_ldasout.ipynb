{
 "cells": [
  {
   "cell_type": "code",
   "execution_count": null,
   "metadata": {},
   "outputs": [],
   "source": [
    "import xarray as xr\n",
    "import xesmf as xe\n",
    "import numpy as np \n",
    "import pathlib as pl\n",
    "import pandas as pd\n",
    "import matplotlib.pyplot as plt\n",
    "import matplotlib.colors as colors"
   ]
  },
  {
   "cell_type": "code",
   "execution_count": null,
   "metadata": {},
   "outputs": [],
   "source": []
  },
  {
   "cell_type": "code",
   "execution_count": null,
   "metadata": {},
   "outputs": [],
   "source": []
  },
  {
   "cell_type": "code",
   "execution_count": null,
   "metadata": {},
   "outputs": [],
   "source": []
  },
  {
   "cell_type": "code",
   "execution_count": null,
   "metadata": {},
   "outputs": [],
   "source": [
    "dsmp8_mean = dsmp8.isel(time=slice(5,180)).mean(dim=\"time\")\n",
    "dsmp10_mean = dsmp10.isel(time=slice(5,180)).mean(dim=\"time\")\n",
    "dsmp55_mean = dsmp55.isel(time=slice(5,180)).mean(dim=\"time\")"
   ]
  },
  {
   "cell_type": "code",
   "execution_count": null,
   "metadata": {},
   "outputs": [],
   "source": [
    "dsmp8_sw = (dsmp8_mean.SWFORC.values * east_mask)\n",
    "dsmp10_sw = (dsmp10_mean.SWFORC.values * east_mask)\n",
    "dsmp55_sw = (dsmp55_mean.SWFORC.values * east_mask)"
   ]
  },
  {
   "cell_type": "code",
   "execution_count": null,
   "metadata": {},
   "outputs": [],
   "source": [
    "dsmp8_lw = (dsmp8_mean.LWFORC.values * east_mask)\n",
    "dsmp10_lw = (dsmp10_mean.LWFORC.values * east_mask)\n",
    "dsmp55_lw = (dsmp55_mean.LWFORC.values * east_mask)"
   ]
  },
  {
   "cell_type": "code",
   "execution_count": null,
   "metadata": {},
   "outputs": [],
   "source": [
    "dsmp8_hfx = (dsmp8_mean.HFX.values * east_mask)\n",
    "dsmp10_hfx = (dsmp10_mean.HFX.values * east_mask)\n",
    "dsmp55_hfx = (dsmp55_mean.HFX.values * east_mask)"
   ]
  },
  {
   "cell_type": "code",
   "execution_count": null,
   "metadata": {},
   "outputs": [],
   "source": [
    "fig,ax = plt.subplots(4,3)\n",
    "fig.set_size_inches(12,12)\n",
    "# sw \n",
    "dsmp8_sw.plot(ax=ax[0,0] , vmin=100, vmax=350, cbar_kwargs={\"label\":\"w/m2\"})\n",
    "dsmp10_sw.plot(ax=ax[0,1], vmin=100, vmax=350, cbar_kwargs={\"label\":\"w/m2\"})\n",
    "dsmp55_sw.plot(ax=ax[0,2], vmin=100, vmax=350, cbar_kwargs={\"label\":\"w/m2\"})\n",
    "\n",
    "# sw \n",
    "dsmp8_lw.plot (ax=ax[1,0], vmin=200, vmax=250, cbar_kwargs={\"label\":\"w/m2\"})\n",
    "dsmp10_lw.plot(ax=ax[1,1], vmin=200, vmax=250, cbar_kwargs={\"label\":\"w/m2\"})\n",
    "dsmp55_lw.plot(ax=ax[1,2], vmin=200, vmax=250, cbar_kwargs={\"label\":\"w/m2\"})\n",
    "\n",
    "# hfx\n",
    "dsmp8_hfx.plot(ax=ax[2,0] , vmin=-150, vmax=150, cmap=\"coolwarm_r\", cbar_kwargs={\"label\":\"w/m2\"})\n",
    "dsmp10_hfx.plot(ax=ax[2,1], vmin=-150, vmax=150, cmap=\"coolwarm_r\", cbar_kwargs={\"label\":\"w/m2\"})\n",
    "dsmp55_hfx.plot(ax=ax[2,2], vmin=-150, vmax=150, cmap=\"coolwarm_r\", cbar_kwargs={\"label\":\"w/m2\"})\n",
    "\n",
    "\n",
    "# snowmelt \n",
    "mp8_snom.plot(ax=ax[3,0], vmin=0, vmax=200, cmap='magma' , cbar_kwargs={\"label\":\"mm\"})\n",
    "mp10_snom.plot(ax=ax[3,1], vmin=0, vmax=200, cmap='magma', cbar_kwargs={\"label\":\"mm\"})\n",
    "mp55_snom.plot(ax=ax[3,2], vmin=0, vmax=200, cmap='magma', cbar_kwargs={\"label\":\"mm\"})\n",
    " \n",
    "\n",
    "for axx in ax.flatten():\n",
    "    for spine in axx.spines:\n",
    "        axx.spines[spine].set_visible(False)\n",
    "    axx.set_xticks([])\n",
    "    axx.set_yticks([])\n",
    "    axx.set_xlabel(\"\")\n",
    "    axx.set_ylabel(\"\")\n",
    "\n",
    "ax[0,0].set_ylabel(\"Shortwave\")\n",
    "ax[1,0].set_ylabel(\"Longwave\")\n",
    "ax[2,0].set_ylabel(\"Sensible Heat Flux\")\n",
    "ax[3,0].set_ylabel(\"Snowmelt\")\n",
    "\n",
    "\n",
    "ax[0,0].set_title(\"mp8\")\n",
    "ax[0,1].set_title(\"mp10\")\n",
    "ax[0,2].set_title(\"mp55\")"
   ]
  }
 ],
 "metadata": {
  "kernelspec": {
   "display_name": "Python 3",
   "language": "python",
   "name": "python3"
  },
  "language_info": {
   "codemirror_mode": {
    "name": "ipython",
    "version": 3
   },
   "file_extension": ".py",
   "mimetype": "text/x-python",
   "name": "python",
   "nbconvert_exporter": "python",
   "pygments_lexer": "ipython3",
   "version": "3.8.13"
  }
 },
 "nbformat": 4,
 "nbformat_minor": 4
}
