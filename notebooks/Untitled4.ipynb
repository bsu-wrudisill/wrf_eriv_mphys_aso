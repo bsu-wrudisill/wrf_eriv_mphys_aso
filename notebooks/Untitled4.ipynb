{
 "cells": [
  {
   "cell_type": "code",
   "execution_count": 3,
   "id": "8f1865f2",
   "metadata": {},
   "outputs": [],
   "source": [
    "import xarray as xr\n",
    "import xesmf as xe\n",
    "import numpy as np \n",
    "import pathlib as pl\n",
    "import pandas as pd\n",
    "from datetime import timedelta"
   ]
  },
  {
   "cell_type": "code",
   "execution_count": 166,
   "id": "1ab8dd5d",
   "metadata": {},
   "outputs": [],
   "source": [
    "ds = xr.open_dataset(\"../prism/prism_regrid_bilinear_wshed/PRISM_precip_wsub_WY2019.nc\")"
   ]
  },
  {
   "cell_type": "code",
   "execution_count": 167,
   "id": "f0087735",
   "metadata": {},
   "outputs": [],
   "source": [
    "#hourly_prism_precip = (ds.DailyPrcp/24.).resample({\"time\":\"h\"}).backfill()"
   ]
  },
  {
   "cell_type": "code",
   "execution_count": 168,
   "id": "acdab22e",
   "metadata": {},
   "outputs": [],
   "source": [
    "base = pl.Path(\"/home/wrudisill/scratch/EastLSM_Only/WRF_subset_files/PrismForce/WY2019/\")\n",
    "\n",
    "# loop thru the nc files...\n",
    "for f in base.glob(\"*.nc\"):\n",
    "    # open up the file...\n",
    "    target_ds = xr.open_dataset(f)\n",
    "        \n",
    "    # get dates\n",
    "    sd = pd.to_datetime(target_ds.XTIME[0].values)\n",
    "    ed = pd.to_datetime(target_ds.XTIME[-1].values) + timedelta(days=1)\n",
    "    \n",
    "        \n",
    "    # change stuff\n",
    "    hourly_prism_precip = (ds.sel(time=slice(sd,ed))/24.).resample({\"time\":\"h\"}).backfill().DailyPrcp\n",
    "    accprcp_prism = hourly_prism_precip.sel(time=slice(sd,ed)).cumsum(dim='time')\n",
    "    \n",
    "    # update\n",
    "    # just do this because PRISM ends at the right time... tehre is an extra day in the wrf dataset\n",
    "    if (ed == pd.to_datetime(\"2019-10-01 23:00:00\")):\n",
    "        target_ds.ACCPRCP.values[:696,:,:] = accprcp_prism.values[:-1,:,:]\n",
    "    else:\n",
    "        target_ds.ACCPRCP.values[:,:,:] = accprcp_prism.values[:-1,:,:]\n",
    "        \n",
    "    # write out some new files\n",
    "    target_ds.to_netcdf(base.joinpath(f.name.split(\".\")[0]+\"_prism_precip.nc\"))"
   ]
  },
  {
   "cell_type": "code",
   "execution_count": 1,
   "id": "0dd12e8c",
   "metadata": {},
   "outputs": [
    {
     "name": "stdout",
     "output_type": "stream",
     "text": [
      "total 6043080\n",
      "-rw-rw-r-- 1 wrudisill wrudisill 262773265 Oct 13 15:24 Month01_SfcMet_wsub_WY2019.nc\n",
      "-rw-rw-r-- 1 wrudisill wrudisill 237374065 Oct 13 15:24 Month02_SfcMet_wsub_WY2019.nc\n",
      "-rw-rw-r-- 1 wrudisill wrudisill 262773265 Oct 13 15:24 Month03_SfcMet_wsub_WY2019.nc\n",
      "-rw-rw-r-- 1 wrudisill wrudisill 254319409 Oct 13 15:24 Month04_SfcMet_wsub_WY2019.nc\n",
      "-rw-rw-r-- 1 wrudisill wrudisill 262773265 Oct 13 15:24 Month05_SfcMet_wsub_WY2019.nc\n",
      "-rw-rw-r-- 1 wrudisill wrudisill 254319409 Oct 13 15:24 Month06_SfcMet_wsub_WY2019.nc\n",
      "-rw-rw-r-- 1 wrudisill wrudisill 262773265 Oct 13 15:24 Month07_SfcMet_wsub_WY2019.nc\n",
      "-rw-rw-r-- 1 wrudisill wrudisill 262773265 Oct 13 15:24 Month08_SfcMet_wsub_WY2019.nc\n",
      "-rw-rw-r-- 1 wrudisill wrudisill 254319409 Oct 13 15:24 Month09_SfcMet_wsub_WY2019.nc\n",
      "-rw-rw-r-- 1 wrudisill wrudisill 262773265 Oct 13 15:24 Month12_SfcMet_wsub_WY2019.nc\n",
      "-rw-rw-r-- 1 wrudisill wrudisill 254319409 Oct 13 15:24 Month11_SfcMet_wsub_WY2019.nc\n",
      "-rw-rw-r-- 1 wrudisill wrudisill 262773265 Oct 13 15:24 Month10_SfcMet_wsub_WY2019.nc\n",
      "-rw-rw-r-- 1 wrudisill wrudisill 262768822 Oct 13 16:08 Month01_SfcMet_wsub_WY2019_prism_precip.nc\n",
      "-rw-rw-r-- 1 wrudisill wrudisill 237369622 Oct 13 16:08 Month02_SfcMet_wsub_WY2019_prism_precip.nc\n",
      "-rw-rw-r-- 1 wrudisill wrudisill 262768822 Oct 13 16:08 Month03_SfcMet_wsub_WY2019_prism_precip.nc\n",
      "-rw-rw-r-- 1 wrudisill wrudisill 254314966 Oct 13 16:08 Month04_SfcMet_wsub_WY2019_prism_precip.nc\n",
      "-rw-rw-r-- 1 wrudisill wrudisill 262768822 Oct 13 16:08 Month05_SfcMet_wsub_WY2019_prism_precip.nc\n",
      "-rw-rw-r-- 1 wrudisill wrudisill 254314966 Oct 13 16:08 Month06_SfcMet_wsub_WY2019_prism_precip.nc\n",
      "-rw-rw-r-- 1 wrudisill wrudisill 262768822 Oct 13 16:08 Month07_SfcMet_wsub_WY2019_prism_precip.nc\n",
      "-rw-rw-r-- 1 wrudisill wrudisill 262768822 Oct 13 16:08 Month08_SfcMet_wsub_WY2019_prism_precip.nc\n",
      "-rw-rw-r-- 1 wrudisill wrudisill 254314966 Oct 13 16:08 Month09_SfcMet_wsub_WY2019_prism_precip.nc\n",
      "-rw-rw-r-- 1 wrudisill wrudisill 262768822 Oct 13 16:08 Month12_SfcMet_wsub_WY2019_prism_precip.nc\n",
      "-rw-rw-r-- 1 wrudisill wrudisill 254314966 Oct 13 16:08 Month11_SfcMet_wsub_WY2019_prism_precip.nc\n",
      "-rw-rw-r-- 1 wrudisill wrudisill 262768822 Oct 13 16:08 Month10_SfcMet_wsub_WY2019_prism_precip.nc\n"
     ]
    }
   ],
   "source": [
    "ls -lrt /home/wrudisill/scratch/EastLSM_Only/WRF_subset_files/PrismForce/WY2019/Month01_SfcMet_wsub_WY2019_prism_precip.nc"
   ]
  },
  {
   "cell_type": "code",
   "execution_count": 9,
   "id": "d80cf923",
   "metadata": {},
   "outputs": [],
   "source": [
    "ds = xr.open_dataset(\"/home/wrudisill/scratch/EastLSM_Only/WRF_subset_files/PrismForce/WY2019/Month02_SfcMet_wsub_WY2019_prism_precip.nc\")"
   ]
  },
  {
   "cell_type": "code",
   "execution_count": 10,
   "id": "02538efa",
   "metadata": {},
   "outputs": [
    {
     "data": {
      "text/plain": [
       "[<matplotlib.lines.Line2D at 0x2aab19592790>]"
      ]
     },
     "execution_count": 10,
     "metadata": {},
     "output_type": "execute_result"
    },
    {
     "data": {
      "image/png": "[encoded data removed]",
      "text/plain": [
       "<Figure size 432x288 with 1 Axes>"
      ]
     },
     "metadata": {
      "needs_background": "light"
     },
     "output_type": "display_data"
    }
   ],
   "source": [
    "ds.ACCPRCP.isel(south_north=50, west_east=50).plot()"
   ]
  },
  {
   "cell_type": "code",
   "execution_count": null,
   "id": "7e4851ef",
   "metadata": {},
   "outputs": [],
   "source": []
  }
 ],
 "metadata": {
  "kernelspec": {
   "display_name": "Python 3",
   "language": "python",
   "name": "python3"
  },
  "language_info": {
   "codemirror_mode": {
    "name": "ipython",
    "version": 3
   },
   "file_extension": ".py",
   "mimetype": "text/x-python",
   "name": "python",
   "nbconvert_exporter": "python",
   "pygments_lexer": "ipython3",
   "version": "3.8.13"
  }
 },
 "nbformat": 4,
 "nbformat_minor": 5
}
