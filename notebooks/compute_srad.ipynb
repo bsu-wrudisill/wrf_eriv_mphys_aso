{
 "cells": [
  {
   "cell_type": "code",
   "execution_count": 7,
   "metadata": {},
   "outputs": [],
   "source": [
    "import xarray as xr\n",
    "import xesmf as xe\n",
    "import numpy as np \n",
    "import pathlib as pl\n",
    "import pandas as pd\n",
    "import matplotlib.pyplot as plt\n",
    "import numpy as np\n",
    "import math"
   ]
  },
  {
   "cell_type": "code",
   "execution_count": 8,
   "metadata": {},
   "outputs": [],
   "source": [
    "## Compute solar geometry..\n",
    "# https://gml.noaa.gov/grad/solcalc/solareqns.PDF"
   ]
  },
  {
   "cell_type": "code",
   "execution_count": 9,
   "metadata": {},
   "outputs": [],
   "source": [
    "def fractional_year(doy, hour_m12_p12):\n",
    "    # hour_m12_p12 is between -12 and 12\n",
    "    # 0 being the middle of hte day... ugh\n",
    "    y = 2*np.pi/365  * (doy - 1 + (hour_m12_p12 - 12)/24) # RADIANS\n",
    "    return y \n",
    "\n",
    "\n",
    "def eqtime(y):\n",
    "    # Literally called \"equation of time\"\n",
    "    #---------------------------------------\n",
    "    ### equation of time - an astronomical term accounting for changes in the time of solar noon \n",
    "    ### for a given location over the course of a year. Earth's elliptical orbit and Kepler's law of \n",
    "    ### equal areas in equal times are the culprits behind this phenomenon. \n",
    "    ### Click here to see a plot of the equation of time vs. day of the year. \n",
    "    ### For more information on this phenomenon, see this offsite Analemma page.\n",
    "    ### https://gml.noaa.gov/grad/solcalc/glossary.html#equationoftime\n",
    "    #---------------------------------------\n",
    "    eqt = 229.18*(0.000075 + 0.001868*np.cos(y) - 0.032077*np.sin(y) - 0.014615*np.cos(2*y) - 0.040849*np.sin(2*y))\n",
    "    return eqt\n",
    "              \n",
    "def time_offset(eqtime, longitude, timezone):\n",
    "    return eqtime + 4*longitude - 60*timezone\n",
    "\n",
    "def true_solar_time(hr, mn, sc, time_offset):\n",
    "    # hour, minute, second, time_offset \n",
    "    # this is the .... \n",
    "    return (hr*60 + mn + sc/60 + time_offset)/60\n",
    "\n",
    "def solar_hour_angle(tst):\n",
    "    # tst is the true solar time \n",
    "    ha = (tst / 4) - 180  # THIS IS DEGREES\n",
    "    # convet to Radians\n",
    "    return ha*np.pi/180\n",
    "\n",
    "def declination_angle(doy):\n",
    "    return .4093*np.sin(2*np.pi/365. * doy - 1.405) # radians"
   ]
  },
  {
   "cell_type": "code",
   "execution_count": 97,
   "metadata": {},
   "outputs": [],
   "source": [
    "def zenith_angle(lat, phi, wt):\n",
    "    # lat is latitude\n",
    "    # phi is solar declination (degrees clockwise from)\n",
    "    # wt is the solar hour angle\n",
    "    \n",
    "    # convert from lat to rads..\n",
    "    lat = lat*np.pi/180\n",
    "    \n",
    "    cosz = np.sin(lat) * np.sin(phi) + np.cos(lat) * np.cos(phi) * np.cos(wt)\n",
    "    return cosz"
   ]
  },
  {
   "cell_type": "code",
   "execution_count": 192,
   "metadata": {},
   "outputs": [],
   "source": [
    "def zenith_angle_main(date, lat, long, timezone=-6):\n",
    "    # start with computing the declination angle. Only a function of fractional year \n",
    "    y = fractional_year(date.dayofyear, date.hour-12)\n",
    "    phi = declination_angle(y)*180./np.pi\n",
    "    \n",
    "    ## compute the time offset...\n",
    "    eqt = eqtime(y)\n",
    "    to = time_offset(eqt, long, timezone)\n",
    "    tst = true_solar_time(date.hour, date.minute, 0, to)\n",
    "    wt = solar_hour_angle(tst)\n",
    "    \n",
    "    # now do the zenith angle...\n",
    "    cza = zenith_angle(lat, phi, wt)\n",
    "\n",
    "    return np.arccos(cza)*180./np.pi"
   ]
  },
  {
   "cell_type": "code",
   "execution_count": null,
   "metadata": {},
   "outputs": [],
   "source": []
  },
  {
   "cell_type": "markdown",
   "metadata": {},
   "source": [
    "### Compute zenithtest_date = pd.to_datetime(\"2017-10-12 01:00\")"
   ]
  },
  {
   "cell_type": "code",
   "execution_count": 193,
   "metadata": {},
   "outputs": [],
   "source": [
    "days_in_year = 365\n",
    "timezone = -7 # relative to GMT\n",
    "lat = 35\n",
    "long = -116.5"
   ]
  },
  {
   "cell_type": "markdown",
   "metadata": {},
   "source": [
    "### Check Eq.Time"
   ]
  },
  {
   "cell_type": "code",
   "execution_count": 194,
   "metadata": {},
   "outputs": [
    {
     "data": {
      "text/plain": [
       "81.3881289740327"
      ]
     },
     "execution_count": 194,
     "metadata": {},
     "output_type": "execute_result"
    }
   ],
   "source": [
    "dr = pd.to_datetime(\"2017-10-16 09:00\")\n",
    "zenith_angle_main(dr, lat, long)"
   ]
  },
  {
   "cell_type": "code",
   "execution_count": 195,
   "metadata": {},
   "outputs": [
    {
     "data": {
      "text/plain": [
       "[<matplotlib.lines.Line2D at 0x2aabb22b5400>]"
      ]
     },
     "execution_count": 195,
     "metadata": {},
     "output_type": "execute_result"
    },
    {
     "data": {
      "image/png": "[encoded data removed]",
      "text/plain": [
       "<Figure size 432x288 with 1 Axes>"
      ]
     },
     "metadata": {
      "needs_background": "light"
     },
     "output_type": "display_data"
    }
   ],
   "source": [
    "dr = pd.date_range(\"2017-01-01 00:00\", \"2017-01-01 23:00\", freq=\"h\")\n",
    "plt.plot([zenith_angle_main(d, lat, long) for d in dr])"
   ]
  },
  {
   "cell_type": "code",
   "execution_count": 183,
   "metadata": {},
   "outputs": [
    {
     "data": {
      "text/plain": [
       "Int64Index([ 0,  1,  2,  3,  4,  5,  6,  7,  8,  9,\n",
       "            ...\n",
       "            15, 16, 17, 18, 19, 20, 21, 22, 23,  0],\n",
       "           dtype='int64', length=265)"
      ]
     },
     "execution_count": 183,
     "metadata": {},
     "output_type": "execute_result"
    }
   ],
   "source": []
  },
  {
   "cell_type": "markdown",
   "metadata": {},
   "source": [
    "### Plot the Declination Angle --- only depends on DOY!"
   ]
  },
  {
   "cell_type": "code",
   "execution_count": 207,
   "metadata": {},
   "outputs": [
    {
     "data": {
      "text/plain": [
       "[<matplotlib.lines.Line2D at 0x2aabb33b3340>]"
      ]
     },
     "execution_count": 207,
     "metadata": {},
     "output_type": "execute_result"
    },
    {
     "data": {
      "image/png": "[encoded data removed]",
      "text/plain": [
       "<Figure size 432x288 with 1 Axes>"
      ]
     },
     "metadata": {
      "needs_background": "light"
     },
     "output_type": "display_data"
    }
   ],
   "source": [
    "plt.plot([declination_angle(d.dayofyear)*180./np.pi for d in dr])"
   ]
  },
  {
   "cell_type": "code",
   "execution_count": 208,
   "metadata": {},
   "outputs": [],
   "source": [
    "### EQTIME"
   ]
  },
  {
   "cell_type": "code",
   "execution_count": 209,
   "metadata": {},
   "outputs": [
    {
     "data": {
      "text/plain": [
       "[<matplotlib.lines.Line2D at 0x2aabb33fff70>]"
      ]
     },
     "execution_count": 209,
     "metadata": {},
     "output_type": "execute_result"
    },
    {
     "data": {
      "image/png": "[encoded data removed]",
      "text/plain": [
       "<Figure size 432x288 with 1 Axes>"
      ]
     },
     "metadata": {
      "needs_background": "light"
     },
     "output_type": "display_data"
    }
   ],
   "source": [
    "plt.plot([eqtime(d.dayofyear) for d in dr])"
   ]
  },
  {
   "cell_type": "markdown",
   "metadata": {},
   "source": [
    "dr = pd.date_range(\"2017-01-01 00:00\", \"2017-12-31 00:00\", freq=\"D\")\n",
    "### Local Solar Time"
   ]
  },
  {
   "cell_type": "code",
   "execution_count": 213,
   "metadata": {},
   "outputs": [
    {
     "data": {
      "text/plain": [
       "[<matplotlib.lines.Line2D at 0x2aabb3466d00>]"
      ]
     },
     "execution_count": 213,
     "metadata": {},
     "output_type": "execute_result"
    },
    {
     "data": {
      "image/png": "[encoded data removed]",
      "text/plain": [
       "<Figure size 432x288 with 1 Axes>"
      ]
     },
     "metadata": {
      "needs_background": "light"
     },
     "output_type": "display_data"
    }
   ],
   "source": [
    "drd = pd.date_range(\"2017-01-01 00:00\", \"2017-01-02 00:00\", freq=\"h\")\n",
    "eqt = eqtime(drd.dayofyear)\n"
   ]
  },
  {
   "cell_type": "markdown",
   "metadata": {},
   "source": [
    "### Zenith Angle"
   ]
  },
  {
   "cell_type": "code",
   "execution_count": 184,
   "metadata": {},
   "outputs": [],
   "source": [
    "# The zenith angle is the angle between the sun and the vertical. \n",
    "# The zenith angle is similar to the elevation angle but it is measured \n",
    "# from the vertical rather than from the horizontal, \n",
    "# thus making the zenith angle = 90° - elevation."
   ]
  },
  {
   "cell_type": "code",
   "execution_count": 218,
   "metadata": {},
   "outputs": [
    {
     "data": {
      "text/plain": [
       "[<matplotlib.lines.Line2D at 0x2aabb355df40>]"
      ]
     },
     "execution_count": 218,
     "metadata": {},
     "output_type": "execute_result"
    },
    {
     "data": {
      "image/png": "[encoded data removed]",
      "text/plain": [
       "<Figure size 432x288 with 1 Axes>"
      ]
     },
     "metadata": {
      "needs_background": "light"
     },
     "output_type": "display_data"
    }
   ],
   "source": [
    "plt.plot([1 + (hour - 12)/24 for hour in range(-12,12)])"
   ]
  },
  {
   "cell_type": "code",
   "execution_count": null,
   "metadata": {},
   "outputs": [],
   "source": []
  }
 ],
 "metadata": {
  "kernelspec": {
   "display_name": "Python 3",
   "language": "python",
   "name": "python3"
  },
  "language_info": {
   "codemirror_mode": {
    "name": "ipython",
    "version": 3
   },
   "file_extension": ".py",
   "mimetype": "text/x-python",
   "name": "python",
   "nbconvert_exporter": "python",
   "pygments_lexer": "ipython3",
   "version": "3.8.6"
  }
 },
 "nbformat": 4,
 "nbformat_minor": 4
}
